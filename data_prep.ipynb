{
 "cells": [
  {
   "cell_type": "code",
   "execution_count": 58,
   "metadata": {},
   "outputs": [],
   "source": [
    "import json\n",
    "from tqdm import tqdm\n",
    "import random"
   ]
  },
  {
   "cell_type": "code",
   "execution_count": 3,
   "metadata": {},
   "outputs": [
    {
     "name": "stdout",
     "output_type": "stream",
     "text": [
      "dict_keys(['meta', 'data'])\n"
     ]
    }
   ],
   "source": [
    "with open(\"./AllPrintings.json\", \"r\") as f:\n",
    "    data = json.load(f)"
   ]
  },
  {
   "cell_type": "code",
   "execution_count": 12,
   "metadata": {},
   "outputs": [
    {
     "name": "stdout",
     "output_type": "stream",
     "text": [
      "dict_keys(['meta', 'data'])\n",
      "dict_keys(['10E', '2ED', '2X2', '2XM', '30A', '3ED', '40K', '4BB', '4ED', '5DN', '5ED', '6ED', '7ED', '8ED', '9ED', 'A25', 'AAFR', 'ABRO', 'ACLB', 'ACMM', 'ACR', 'ADMU', 'AER', 'AFC', 'AFR', 'AJMP', 'AKH', 'AKHM', 'AKR', 'ALA', 'ALCI', 'ALL', 'ALTR', 'AMH1', 'AMH2', 'AMID', 'AMKM', 'AMOM', 'ANA', 'ANB', 'ANEO', 'AONE', 'APC', 'ARB', 'ARC', 'ARN', 'ASNC', 'ASTX', 'ATH', 'ATQ', 'AVOW', 'AVR', 'AWOE', 'AZNR', 'BBD', 'BCHR', 'BFZ', 'BIG', 'BLB', 'BNG', 'BOK', 'BOT', 'BRB', 'BRC', 'BRO', 'BRR', 'BTD', 'C13', 'C14', 'C15', 'C16', 'C17', 'C18', 'C19', 'C20', 'C21', 'CC1', 'CC2', 'CED', 'CEI', 'CHK', 'CHR', 'CLB', 'CLU', 'CM1', 'CM2', 'CMA', 'CMB1', 'CMB2', 'CMD', 'CMM', 'CMR', 'CN2', 'CNS', 'CON', 'CP1', 'CP2', 'CP3', 'CSP', 'CST', 'DBL', 'DD1', 'DD2', 'DD3', 'DDC', 'DDD', 'DDE', 'DDF', 'DDG', 'DDH', 'DDI', 'DDJ', 'DDK', 'DDL', 'DDM', 'DDN', 'DDO', 'DDP', 'DDQ', 'DDR', 'DDS', 'DDT', 'DDU', 'DGM', 'DIS', 'DKA', 'DKM', 'DMC', 'DMR', 'DMU', 'DOM', 'DPA', 'DRB', 'DRK', 'DST', 'DTK', 'DVD', 'E01', 'E02', 'EA1', 'EA2', 'EA3', 'ELD', 'EMA', 'EMN', 'EVE', 'EVG', 'EXO', 'EXP', 'F01', 'F02', 'F03', 'F04', 'F05', 'F06', 'F07', 'F08', 'F09', 'F10', 'F11', 'F12', 'F13', 'F14', 'F15', 'F16', 'F17', 'F18', 'FBB', 'FBRO', 'FCLU', 'FDMU', 'FEM', 'FJ22', 'FJMP', 'FLTR', 'FMOM', 'FNM', 'FONE', 'FRF', 'FUT', 'G00', 'G01', 'G02', 'G03', 'G04', 'G05', 'G06', 'G07', 'G08', 'G09', 'G10', 'G11', 'G17', 'G18', 'G99', 'GDY', 'GK1', 'GK2', 'GN2', 'GN3', 'GNT', 'GPT', 'GRN', 'GS1', 'GTC', 'GVL', 'H09', 'H17', 'H1R', 'HA1', 'HA2', 'HA3', 'HA4', 'HA5', 'HA6', 'HA7', 'HBG', 'HHO', 'HML', 'HOP', 'HOU', 'ICE', 'IKO', 'IMA', 'INV', 'ISD', 'ITP', 'J12', 'J13', 'J14', 'J15', 'J16', 'J17', 'J18', 'J19', 'J20', 'J21', 'J22', 'JGP', 'JMP', 'JOU', 'JUD', 'JVC', 'KHC', 'KHM', 'KLD', 'KLR', 'KTK', 'L12', 'L13', 'L14', 'L15', 'L16', 'L17', 'LCC', 'LCI', 'LEA', 'LEB', 'LEG', 'LGN', 'LRW', 'LTC', 'LTR', 'M10', 'M11', 'M12', 'M13', 'M14', 'M15', 'M19', 'M20', 'M21', 'M3C', 'MAFR', 'MAT', 'MB1', 'MBRO', 'MBS', 'MCLB', 'MD1', 'MDMU', 'ME1', 'ME2', 'ME3', 'ME4', 'MED', 'MGB', 'MH1', 'MH2', 'MH3', 'MIC', 'MID', 'MIR', 'MKC', 'MKHM', 'MKM', 'MM2', 'MM3', 'MMA', 'MMH2', 'MMID', 'MMQ', 'MNEO', 'MOC', 'MOM', 'MONE', 'MOR', 'MP2', 'MPR', 'MPS', 'MRD', 'MSNC', 'MSTX', 'MUL', 'MVOW', 'MZNR', 'NCC', 'NEC', 'NEM', 'NEO', 'NPH', 'O90P', 'OAFC', 'OANA', 'OARC', 'OC13', 'OC14', 'OC15', 'OC16', 'OC17', 'OC18', 'OC19', 'OC20', 'OC21', 'OCM1', 'OCMD', 'ODY', 'OE01', 'OGW', 'OHOP', 'OLEP', 'OLGC', 'OMIC', 'ONC', 'ONE', 'ONS', 'OPC2', 'OPCA', 'ORI', 'OTC', 'OTJ', 'OTP', 'OVNT', 'OVOC', 'P02', 'P03', 'P04', 'P05', 'P06', 'P07', 'P08', 'P09', 'P10', 'P10E', 'P11', 'P15A', 'P22', 'P23', 'P2HG', 'P30A', 'P30H', 'P30M', 'P30T', 'P5DN', 'P8ED', 'P9ED', 'PAER', 'PAFR', 'PAKH', 'PAL00', 'PAL01', 'PAL02', 'PAL03', 'PAL04', 'PAL05', 'PAL06', 'PAL99', 'PALA', 'PALP', 'PANA', 'PAPC', 'PARB', 'PARL', 'PAST', 'PAVR', 'PBBD', 'PBFZ', 'PBNG', 'PBOK', 'PBOOK', 'PBRO', 'PC2', 'PCA', 'PCEL', 'PCHK', 'PCLB', 'PCMD', 'PCMP', 'PCMR', 'PCNS', 'PCON', 'PCSP', 'PCY', 'PD2', 'PD3', 'PDCI', 'PDGM', 'PDIS', 'PDKA', 'PDMU', 'PDOM', 'PDP10', 'PDP12', 'PDP13', 'PDP14', 'PDP15', 'PDRC', 'PDST', 'PDTK', 'PDTP', 'PELD', 'PELP', 'PEMN', 'PEVE', 'PEWK', 'PEXO', 'PF19', 'PF20', 'PF23', 'PF24', 'PFRF', 'PFUT', 'PGPT', 'PGPX', 'PGRN', 'PGRU', 'PGTC', 'PH17', 'PH18', 'PH19', 'PH20', 'PH21', 'PH22', 'PHEL', 'PHJ', 'PHOP', 'PHOU', 'PHPR', 'PHTR', 'PHUK', 'PIDW', 'PIKO', 'PINV', 'PIP', 'PISD', 'PJ21', 'PJAS', 'PJJT', 'PJOU', 'PJSE', 'PJUD', 'PKHM', 'PKLD', 'PKTK', 'PL21', 'PL22', 'PL23', 'PL24', 'PLC', 'PLCI', 'PLG20', 'PLG21', 'PLG22', 'PLGM', 'PLGN', 'PLNY', 'PLRW', 'PLS', 'PLST', 'PLTR', 'PM10', 'PM11', 'PM12', 'PM13', 'PM14', 'PM15', 'PM19', 'PM20', 'PM21', 'PMAT', 'PMBS', 'PMDA', 'PMEI', 'PMH1', 'PMH2', 'PMIC', 'PMID', 'PMKM', 'PMMQ', 'PMOA', 'PMOM', 'PMOR', 'PMPS', 'PMPS06', 'PMPS07', 'PMPS08', 'PMPS09', 'PMPS10', 'PMPS11', 'PMRD', 'PNAT', 'PNCC', 'PNEM', 'PNEO', 'PNPH', 'PODY', 'POGW', 'PONE', 'PONS', 'POR', 'PORI', 'PPC1', 'PPCY', 'PPLC', 'PPLS', 'PPP1', 'PPRO', 'PPTK', 'PR2', 'PR23', 'PRAV', 'PRCQ', 'PRED', 'PRES', 'PRIX', 'PRM', 'PRNA', 'PROE', 'PRTR', 'PRW2', 'PRWK', 'PS11', 'PS14', 'PS15', 'PS16', 'PS17', 'PS18', 'PS19', 'PSAL', 'PSCG', 'PSDC', 'PSDG', 'PSHM', 'PSNC', 'PSOI', 'PSOK', 'PSOM', 'PSS1', 'PSS2', 'PSS3', 'PSS4', 'PSTH', 'PSTX', 'PSUS', 'PSVC', 'PTBRO', 'PTC', 'PTDMU', 'PTG', 'PTHB', 'PTHS', 'PTK', 'PTKDF', 'PTMP', 'PTOR', 'PTSNC', 'PTSP', 'PTSR', 'PUDS', 'PULG', 'PUMA', 'PUNH', 'PURL', 'PUSG', 'PUST', 'PVAN', 'PVOW', 'PW11', 'PW12', 'PW21', 'PW22', 'PW23', 'PW24', 'PWAR', 'PWCS', 'PWOE', 'PWOR', 'PWOS', 'PWWK', 'PXLN', 'PXTC', 'PZ1', 'PZ2', 'PZEN', 'PZNR', 'Q01', 'Q02', 'Q03', 'Q04', 'Q05', 'Q06', 'Q07', 'Q08', 'RAV', 'REN', 'REX', 'RIN', 'RIX', 'RNA', 'ROE', 'RQS', 'RTR', 'RVR', 'S00', 'S99', 'SBRO', 'SCD', 'SCG', 'SCH', 'SHM', 'SIR', 'SIS', 'SKHM', 'SLC', 'SLCI', 'SLD', 'SLP', 'SLU', 'SLX', 'SMID', 'SMOM', 'SNC', 'SNEO', 'SOI', 'SOK', 'SOM', 'SPG', 'SS1', 'SS2', 'SS3', 'SSTX', 'STA', 'STH', 'STX', 'SUM', 'SUNF', 'SVOW', 'SZNR', 'TBTH', 'TD0', 'TD2', 'TDAG', 'TFTH', 'THB', 'THP1', 'THP2', 'THP3', 'THS', 'TMP', 'TOR', 'TPR', 'TSB', 'TSP', 'TSR', 'UDS', 'UGIN', 'UGL', 'ULG', 'ULST', 'UMA', 'UND', 'UNF', 'UNH', 'USG', 'UST', 'V09', 'V10', 'V11', 'V12', 'V13', 'V14', 'V15', 'V16', 'V17', 'VIS', 'VMA', 'VOC', 'VOW', 'W16', 'W17', 'WAR', 'WC00', 'WC01', 'WC02', 'WC03', 'WC04', 'WC97', 'WC98', 'WC99', 'WDMU', 'WHO', 'WMC', 'WMKM', 'WMOM', 'WOC', 'WOE', 'WONE', 'WOT', 'WTH', 'WWK', 'WWOE', 'XANA', 'XLN', 'YBRO', 'YDMU', 'YLCI', 'YMID', 'YMKM', 'YNEO', 'YONE', 'YSNC', 'YWOE', 'ZEN', 'ZNC', 'ZNE', 'ZNR'])\n",
      "dict_keys(['baseSetSize', 'block', 'booster', 'cards', 'cardsphereSetId', 'code', 'decks', 'isFoilOnly', 'isOnlineOnly', 'keyruneCode', 'languages', 'mcmId', 'mcmName', 'mtgoCode', 'name', 'releaseDate', 'sealedProduct', 'tcgplayerGroupId', 'tokenSetCode', 'tokens', 'totalSetSize', 'translations', 'type'])\n",
      "dict_keys(['artist', 'artistIds', 'availability', 'boosterTypes', 'borderColor', 'colorIdentity', 'colors', 'convertedManaCost', 'edhrecRank', 'edhrecSaltiness', 'finishes', 'foreignData', 'frameVersion', 'hasFoil', 'hasNonFoil', 'identifiers', 'isReprint', 'keywords', 'language', 'layout', 'legalities', 'manaCost', 'manaValue', 'name', 'number', 'originalText', 'originalType', 'power', 'printings', 'purchaseUrls', 'rarity', 'setCode', 'sourceProducts', 'subtypes', 'supertypes', 'text', 'toughness', 'type', 'types', 'uuid', 'variations'])\n"
     ]
    }
   ],
   "source": [
    "print(data.keys())\n",
    "print(data[\"data\"].keys())\n",
    "print(data[\"data\"][\"10E\"].keys())\n",
    "print(data[\"data\"][\"10E\"][\"cards\"][0].keys())"
   ]
  },
  {
   "cell_type": "code",
   "execution_count": 54,
   "metadata": {},
   "outputs": [
    {
     "name": "stderr",
     "output_type": "stream",
     "text": [
      "100%|██████████| 746/746 [00:00<00:00, 46152.44it/s]"
     ]
    },
    {
     "name": "stdout",
     "output_type": "stream",
     "text": [
      "artist               Pete Venters\n",
      "artistIds            ['d54c4a1a-c0c5-4834-84db-125d341f3ad8']\n",
      "availability         ['mtgo', 'paper']\n",
      "boosterTypes         ['default']\n",
      "borderColor          black\n",
      "colorIdentity        ['W']\n",
      "colors               ['W']\n",
      "convertedManaCost    7.0\n",
      "edhrecRank           21097\n",
      "edhrecSaltiness      0.14\n",
      "finishes             ['nonfoil']\n",
      "foreignData          [{'flavorText': '„Es ist der Wille aller, und meine Hand, die ihn ausführt.\"', 'language': 'German', 'multiverseId': 148411, 'name': 'Ausgewählter der Ahnfrau', 'text': 'Erstschlag (Diese Kreatur fügt Kampfschaden vor Kreaturen ohne Erstschlag zu.)\\nWenn der Ausgewählte der Ahnfrau ins Spiel kommt, erhältst du 1 Lebenspunkt für jede Karte in deinem Friedhof dazu.', 'type': 'Kreatur — Mensch, Kleriker'}, {'flavorText': '\"La voluntad de todos, realizada por mi mano.\"', 'language': 'Spanish', 'multiverseId': 150317, 'name': 'Elegido de la Antepasada', 'text': 'Daña primero. (Esta criatura hace daño de combate antes que las criaturas sin la habilidad de dañar primero.)\\nCuando el Elegido de la Antepasada entre en juego, ganas 1 vida por cada carta en tu cementerio.', 'type': 'Criatura — Clérigo humano'}, {'flavorText': '« La volonté de tous passe par ma main. »', 'language': 'French', 'multiverseId': 149934, 'name': \"Élu de l'Ancêtre\", 'text': \"Initiative (Cette créature inflige des blessures de combat avant les créatures sans l'initiative.)\\nQuand l'Élu de l'Ancêtre arrive en jeu, vous gagnez 1 point de vie pour chaque carte dans votre cimetière.\", 'type': 'Créature : humain et clerc'}, {'flavorText': '\"La volontà di tutti, eseguita per mano mia.\"', 'language': 'Italian', 'multiverseId': 148794, 'name': \"Prescelto dell'Antenata\", 'text': \"Attacco improvviso (Questa creatura infligge danno da combattimento prima delle creature senza attacco improvviso.)\\nQuando il Prescelto dell'Antenata entra in gioco, guadagni 1 punto vita per ogni carta nel tuo cimitero.\", 'type': 'Creatura — Chierico Umano'}, {'flavorText': 'すべての意思を、この手で成そう。', 'language': 'Japanese', 'multiverseId': 148028, 'name': '祖神に選ばれし者', 'text': '先制攻撃 （このクリーチャーは先制攻撃を持たないクリーチャーよりも先に戦闘ダメージを与える。）\\n祖神に選ばれし者が場に出たとき、あなたはあなたの墓地にあるカード１枚につき１点のライフを得る。', 'type': 'クリーチャー — 人間・クレリック'}, {'flavorText': '\"A vontade de todos pelas minhas mãos realizada.\"', 'language': 'Portuguese (Brazil)', 'multiverseId': 149551, 'name': 'Eleito da Ancestral', 'text': 'Iniciativa (Esta criatura causa dano de combate antes de criaturas sem a habilidade de iniciativa.)\\nQuando Eleito da Ancestral entra em jogo, você ganha 1 ponto de vida para cada card em seu cemitério.', 'type': 'Criatura — Humano Clérigo'}, {'flavorText': '\"Общая воля моей рукой вершится\".', 'language': 'Russian', 'multiverseId': 149168, 'name': 'Избранник Прародителя', 'text': 'Первый удар (Это существо наносит боевые повреждения раньше существ без Первого удара.)\\nКогда Избранник Прародителя входит в игру, вы получаете 1 жизнь за каждую карту на вашем кладбище.', 'type': 'Существо — Человек Священник'}, {'flavorText': '「众生所愿，吾手所圆。」', 'language': 'Chinese Simplified', 'multiverseId': 147645, 'name': '祖灵的爱民', 'text': '先攻（此生物会比不具先攻异能的生物提前造成战斗伤害。）\\n当祖灵的爱民进场时，你坟墓场中每有一张牌，你便获得1点生命。', 'type': '生物～人类／僧侣'}]\n",
      "frameVersion         2003\n",
      "hasFoil              False\n",
      "hasNonFoil           True\n",
      "identifiers          {'cardKingdomId': '122719', 'cardsphereFoilId': '19', 'cardsphereId': '20', 'mcmId': '16165', 'mcmMetaId': '156', 'mtgjsonFoilVersionId': 'b7c19924-b4bf-56fc-aa73-f586e940bd42', 'mtgjsonV4Id': 'ad41be73-582f-58ed-abd4-a88c1f616ac3', 'mtgoFoilId': '27501', 'mtgoId': '27500', 'multiverseId': '130550', 'scryfallCardBackId': '0aeebaf5-8c7d-4636-9e82-8c27447861f7', 'scryfallId': '7a5cd03c-4227-4551-aa4b-7d119f0468b5', 'scryfallIllustrationId': 'be2f7173-c8b7-4172-a388-9b2c6b3c16e5', 'scryfallOracleId': 'fc2ccab7-cab1-4463-b73d-898070136d74', 'tcgplayerProductId': '15032'}\n",
      "isReprint            True\n",
      "keywords             ['First strike']\n",
      "language             English\n",
      "layout               normal\n",
      "legalities           {'commander': 'Legal', 'duel': 'Legal', 'legacy': 'Legal', 'modern': 'Legal', 'oathbreaker': 'Legal', 'paupercommander': 'Restricted', 'penny': 'Legal', 'predh': 'Legal', 'premodern': 'Legal', 'vintage': 'Legal'}\n",
      "manaCost             {5}{W}{W}\n",
      "manaValue            7.0\n",
      "name                 Ancestor's Chosen\n",
      "number               1\n",
      "originalText         First strike\n",
      "When Ancestor's Chosen comes into play, you gain 1 life for each card in your graveyard.\n",
      "originalType         Creature - Human Cleric\n",
      "power                4\n",
      "printings            ['10E', 'JUD', 'UMA']\n",
      "purchaseUrls         {'cardKingdom': 'https://mtgjson.com/links/9fb51af0ad6f0736', 'cardmarket': 'https://mtgjson.com/links/ace8861194ee0b6a', 'tcgplayer': 'https://mtgjson.com/links/4843cea124a0d515'}\n",
      "rarity               uncommon\n",
      "setCode              10E\n",
      "sourceProducts       {'nonfoil': ['3a10f018-17fe-56a7-91ba-b4bd98678c8d', 'c690e178-661d-5e17-9b29-a5bf6319a844']}\n",
      "subtypes             ['Human', 'Cleric']\n",
      "supertypes           []\n",
      "text                 First strike (This creature deals combat damage before creatures without first strike.)\n",
      "When Ancestor's Chosen enters the battlefield, you gain 1 life for each card in your graveyard.\n",
      "toughness            4\n",
      "type                 Creature — Human Cleric\n",
      "types                ['Creature']\n",
      "uuid                 5f8287b1-5bb6-5f4c-ad17-316a40d5bb0c\n",
      "variations           ['b7c19924-b4bf-56fc-aa73-f586e940bd42']\n"
     ]
    },
    {
     "name": "stderr",
     "output_type": "stream",
     "text": [
      "\n"
     ]
    }
   ],
   "source": [
    "cards = []\n",
    "for set_name, set_data in tqdm(data[\"data\"].items()):\n",
    "    for card in set_data[\"cards\"]:\n",
    "        cards.append(card)\n",
    "\n",
    "for k, v in cards[0].items():\n",
    "    print(f\"{k:20} {v}\")"
   ]
  },
  {
   "cell_type": "code",
   "execution_count": 52,
   "metadata": {},
   "outputs": [],
   "source": [
    "class MtgCard:\n",
    "    artist: str\n",
    "    colors: list[str]\n",
    "    convertedManaCost: float\n",
    "    edhrecRank: int\n",
    "    edhrecSalt: float\n",
    "    legalities: dict[str, bool]\n",
    "    manaCost: str\n",
    "    name: str\n",
    "    ability_text: str\n",
    "    type_line: str\n",
    "    power: int\n",
    "    toughness: int\n",
    "    loyalty: int\n",
    "    rarity: str\n",
    "\n",
    "    def __init__(self) -> None:\n",
    "        pass\n",
    "\n",
    "    @staticmethod\n",
    "    def from_json(card: dict) -> \"MtgCard\":\n",
    "        c = MtgCard()\n",
    "        c.artist = card.get(\"artist\", \"\")\n",
    "        c.colors = card[\"colors\"]\n",
    "        c.convertedManaCost = card[\"convertedManaCost\"]\n",
    "        c.edhrecRank = card.get(\"edhrecRank\", float(\"inf\"))\n",
    "        c.edhrecSalt = card.get(\"edhrecSaltiness\", 0.0)\n",
    "        \n",
    "        c.legalities = {}\n",
    "        for k, v in card[\"legalities\"].items():\n",
    "            c.legalities[k] = (v != \"legal\")\n",
    "\n",
    "        c.manaCost = card.get(\"manaCost\", card.get(\"manaValue\", 0))\n",
    "        c.name = card[\"name\"]\n",
    "        c.ability_text = card.get(\"text\", \"\")\n",
    "        c.type_line = card[\"type\"]\n",
    "\n",
    "        c.power = card.get(\"power\", None)\n",
    "        try:\n",
    "            c.power = int(c.power)\n",
    "        except:\n",
    "            c.power = c.power\n",
    "        c.toughness = card.get(\"toughness\", None)\n",
    "        try:\n",
    "            c.toughness = int(c.toughness)\n",
    "        except:\n",
    "            c.toughness = c.toughness\n",
    "        c.loyalty = card.get(\"loyalty\", None)\n",
    "        try:\n",
    "            c.loyalty = int(c.loyalty)\n",
    "        except:\n",
    "            c.loyalty = c.loyalty\n",
    "            \n",
    "        c.rarity = card[\"rarity\"]\n",
    "        return c\n",
    "    \n",
    "    def __str__(self) -> str:\n",
    "        return f\"{self.name} ({self.manaCost})\"\n",
    "    \n",
    "    def __repr__(self) -> str:\n",
    "        return str(self)\n",
    "    \n",
    "    def __hash__(self) -> int:\n",
    "        return hash(f\"{self.name} {self.manaCost}\")\n",
    "    \n",
    "    def __eq__(self, o: object) -> bool:\n",
    "        if not isinstance(o, MtgCard):\n",
    "            return False\n",
    "        return self.name == o.name and self.manaCost == o.manaCost"
   ]
  },
  {
   "cell_type": "code",
   "execution_count": 68,
   "metadata": {},
   "outputs": [],
   "source": [
    "def manaCost_to_cmc(manaCost: str) -> int:\n",
    "    cmc = 0\n",
    "    for char in manaCost:\n",
    "        if char.isdigit():\n",
    "            cmc += int(char)\n",
    "        elif char in \"}{X\":\n",
    "            pass\n",
    "        else:\n",
    "            cmc += 1\n",
    "    return cmc"
   ]
  },
  {
   "cell_type": "code",
   "execution_count": 55,
   "metadata": {},
   "outputs": [
    {
     "name": "stderr",
     "output_type": "stream",
     "text": [
      "100%|██████████| 91767/91767 [00:00<00:00, 173622.27it/s]\n"
     ]
    }
   ],
   "source": [
    "card_objs = []\n",
    "for card in tqdm(cards):\n",
    "    try:\n",
    "        card_objs.append(MtgCard.from_json(card))\n",
    "    except Exception as e:\n",
    "        for k, v in card.items():\n",
    "            print(f\"{k:20} {v}\")\n",
    "        print(e)\n",
    "        break\n",
    "\n",
    "cards = list(set(card_objs))"
   ]
  },
  {
   "cell_type": "code",
   "execution_count": 56,
   "metadata": {},
   "outputs": [],
   "source": [
    "with open(\"cards.json\", \"w\") as f:\n",
    "    json.dump([c.__dict__ for c in cards], f, indent=4)"
   ]
  },
  {
   "cell_type": "code",
   "execution_count": 73,
   "metadata": {},
   "outputs": [
    {
     "name": "stderr",
     "output_type": "stream",
     "text": [
      "100%|██████████| 29646/29646 [00:00<00:00, 197063.54it/s]\n"
     ]
    }
   ],
   "source": [
    "ambigous_cards: list[tuple[tuple, int]] = [] # (type_line + ability_text + power + toughness + loyalty, manaCost)\n",
    "for card in tqdm(cards):\n",
    "    name = card.name\n",
    "    card_info = [\n",
    "        card.type_line,\n",
    "        card.ability_text,\n",
    "        card.power,\n",
    "        card.toughness,\n",
    "        card.loyalty\n",
    "    ]\n",
    "    # replace all instances of the card name with \"CARDNAME\"\n",
    "    for i in range(len(card_info)):\n",
    "        if type(card_info[i]) == str:\n",
    "            card_info[i] = card_info[i].replace(name, \"CARDNAME\")\n",
    "\n",
    "    try:\n",
    "        cmc = manaCost_to_cmc(card.manaCost)\n",
    "    except:\n",
    "        cmc = int(card.manaCost)\n",
    "    ambigous_cards.append((tuple(card_info), cmc))"
   ]
  },
  {
   "cell_type": "code",
   "execution_count": 77,
   "metadata": {},
   "outputs": [
    {
     "name": "stdout",
     "output_type": "stream",
     "text": [
      "(('Legendary Creature — Kirin Spirit', \"Flying\\nWhenever you cast a Spirit or Arcane spell, you may have target player mill X cards, where X is that spell's mana value.\", 4, 4, None), 5)\n"
     ]
    }
   ],
   "source": [
    "print(random.choice(ambigous_cards))"
   ]
  },
  {
   "cell_type": "code",
   "execution_count": 78,
   "metadata": {},
   "outputs": [],
   "source": [
    "ambigous_cards_json = []\n",
    "for card, cmc in ambigous_cards:\n",
    "    ambigous_cards_json.append({\n",
    "        \"card\": card,\n",
    "        \"cmc\": cmc\n",
    "    })\n",
    "\n",
    "with open(\"ambigous_cards.json\", \"w\") as f:\n",
    "    json.dump(ambigous_cards_json, f, indent=4)"
   ]
  }
 ],
 "metadata": {
  "kernelspec": {
   "display_name": "base",
   "language": "python",
   "name": "python3"
  },
  "language_info": {
   "codemirror_mode": {
    "name": "ipython",
    "version": 3
   },
   "file_extension": ".py",
   "mimetype": "text/x-python",
   "name": "python",
   "nbconvert_exporter": "python",
   "pygments_lexer": "ipython3",
   "version": "3.12.2"
  }
 },
 "nbformat": 4,
 "nbformat_minor": 2
}
